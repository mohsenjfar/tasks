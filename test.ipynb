{
 "cells": [
  {
   "cell_type": "code",
   "execution_count": 34,
   "metadata": {},
   "outputs": [],
   "source": [
    "from datetime import date, time, datetime, timedelta"
   ]
  },
  {
   "cell_type": "code",
   "execution_count": 60,
   "metadata": {},
   "outputs": [],
   "source": [
    "def return_time():\n",
    "    start_time = datetime.combine(date.today(), time(7,0))\n",
    "    end_time = datetime.combine(date.today(), time(22,0))\n",
    "    periods = [25,5,25,5,25,5,25,15]\n",
    "    states = {\n",
    "        25:\"Session started\", \n",
    "        5:\"Short break\", \n",
    "        15:\"Long break\\nDon't forget to drink water\"\n",
    "    }\n",
    "    times = {}\n",
    "    while start_time < end_time:\n",
    "        for p in periods:\n",
    "            times[start_time.strftime('%H:%M')] = states[p]\n",
    "            start_time += timedelta(minutes=p)\n",
    "    return times"
   ]
  },
  {
   "cell_type": "code",
   "execution_count": 61,
   "metadata": {},
   "outputs": [
    {
     "name": "stdout",
     "output_type": "stream",
     "text": [
      "07:00 : Session Started\n",
      "07:25 : Short break\n",
      "07:30 : Session Started\n",
      "07:55 : Short break\n",
      "08:00 : Session Started\n",
      "08:25 : Short break\n",
      "08:30 : Session Started\n",
      "08:55 : Long break\n",
      "Don't forget to drink water\n",
      "09:10 : Session Started\n",
      "09:35 : Short break\n",
      "09:40 : Session Started\n",
      "10:05 : Short break\n",
      "10:10 : Session Started\n",
      "10:35 : Short break\n",
      "10:40 : Session Started\n",
      "11:05 : Long break\n",
      "Don't forget to drink water\n",
      "11:20 : Session Started\n",
      "11:45 : Short break\n",
      "11:50 : Session Started\n",
      "12:15 : Short break\n",
      "12:20 : Session Started\n",
      "12:45 : Short break\n",
      "12:50 : Session Started\n",
      "13:15 : Long break\n",
      "Don't forget to drink water\n",
      "13:30 : Session Started\n",
      "13:55 : Short break\n",
      "14:00 : Session Started\n",
      "14:25 : Short break\n",
      "14:30 : Session Started\n",
      "14:55 : Short break\n",
      "15:00 : Session Started\n",
      "15:25 : Long break\n",
      "Don't forget to drink water\n",
      "15:40 : Session Started\n",
      "16:05 : Short break\n",
      "16:10 : Session Started\n",
      "16:35 : Short break\n",
      "16:40 : Session Started\n",
      "17:05 : Short break\n",
      "17:10 : Session Started\n",
      "17:35 : Long break\n",
      "Don't forget to drink water\n",
      "17:50 : Session Started\n",
      "18:15 : Short break\n",
      "18:20 : Session Started\n",
      "18:45 : Short break\n",
      "18:50 : Session Started\n",
      "19:15 : Short break\n",
      "19:20 : Session Started\n",
      "19:45 : Long break\n",
      "Don't forget to drink water\n",
      "20:00 : Session Started\n",
      "20:25 : Short break\n",
      "20:30 : Session Started\n",
      "20:55 : Short break\n",
      "21:00 : Session Started\n",
      "21:25 : Short break\n",
      "21:30 : Session Started\n",
      "21:55 : Long break\n",
      "Don't forget to drink water\n"
     ]
    }
   ],
   "source": [
    "for key, value in return_time().items():\n",
    "    print(key, \":\", value)"
   ]
  }
 ],
 "metadata": {
  "kernelspec": {
   "display_name": ".venv",
   "language": "python",
   "name": "python3"
  },
  "language_info": {
   "codemirror_mode": {
    "name": "ipython",
    "version": 3
   },
   "file_extension": ".py",
   "mimetype": "text/x-python",
   "name": "python",
   "nbconvert_exporter": "python",
   "pygments_lexer": "ipython3",
   "version": "3.9.2"
  },
  "orig_nbformat": 4
 },
 "nbformat": 4,
 "nbformat_minor": 2
}
