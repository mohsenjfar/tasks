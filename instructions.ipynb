{
 "cells": [
  {
   "attachments": {},
   "cell_type": "markdown",
   "metadata": {},
   "source": [
    "## Create virtual envitonment\n",
    "\n",
    "```bash\n",
    "python3 -m venv .venv\n",
    "```\n",
    "\n",
    "## Install depencencies\n",
    "\n",
    "```bash\n",
    "pip install django pandas python-telegram-bot\n",
    "```\n",
    "\n",
    "## Create project and app\n",
    "\n",
    "```bash\n",
    "django-admin startproject backend .\n",
    "python3 manage.py startapp tasks \n",
    "```\n",
    "\n",
    "## Add app to app lists in settings\n",
    "\n",
    "## Migrate\n",
    "\n",
    "- python3 manage.py makemigrations\n",
    "- python3 manage.py migtate"
   ]
  },
  {
   "attachments": {},
   "cell_type": "markdown",
   "metadata": {},
   "source": [
    "## Django setup and import models"
   ]
  },
  {
   "cell_type": "code",
   "execution_count": 10,
   "metadata": {},
   "outputs": [],
   "source": [
    "import sys, os, django\n",
    "sys.path.append('/root/taskerbot')\n",
    "os.environ.setdefault(\"DJANGO_SETTINGS_MODULE\", \"backend.settings\")\n",
    "os.environ[\"DJANGO_ALLOW_ASYNC_UNSAFE\"] = \"true\"\n",
    "django.setup()\n",
    "from tasks.models import Task"
   ]
  },
  {
   "attachments": {},
   "cell_type": "markdown",
   "metadata": {},
   "source": [
    "## Import other libs and dependencies"
   ]
  },
  {
   "cell_type": "code",
   "execution_count": 9,
   "metadata": {},
   "outputs": [],
   "source": [
    "from datetime import datetime, date, time"
   ]
  },
  {
   "cell_type": "code",
   "execution_count": null,
   "metadata": {},
   "outputs": [],
   "source": [
    "today = datetime.combine(date.today(), time(23,59))\n",
    "tasks = Task.objects.filter(due__lte = today).order_by('due')"
   ]
  },
  {
   "cell_type": "code",
   "execution_count": 15,
   "metadata": {},
   "outputs": [
    {
     "name": "stdout",
     "output_type": "stream",
     "text": [
      "Bath\n",
      "Cooking\n",
      "Breakfast\n",
      "Body hygiene\n",
      "Fruit\n",
      "House cleaning\n",
      "Ghalyeh\n",
      "Duolingo\n",
      "Scimentology\n",
      "Maintenance\n",
      "Flowers irritating\n",
      "Jojeh\n"
     ]
    }
   ],
   "source": [
    "for task in tasks:\n",
    "    print(task.summary)"
   ]
  },
  {
   "cell_type": "markdown",
   "metadata": {},
   "source": [
    "## Run script"
   ]
  },
  {
   "cell_type": "code",
   "execution_count": null,
   "metadata": {},
   "outputs": [],
   "source": [
    "!python3 telegram/bot.py"
   ]
  }
 ],
 "metadata": {
  "kernelspec": {
   "display_name": ".venv",
   "language": "python",
   "name": "python3"
  },
  "language_info": {
   "codemirror_mode": {
    "name": "ipython",
    "version": 3
   },
   "file_extension": ".py",
   "mimetype": "text/x-python",
   "name": "python",
   "nbconvert_exporter": "python",
   "pygments_lexer": "ipython3",
   "version": "3.9.2"
  },
  "orig_nbformat": 4
 },
 "nbformat": 4,
 "nbformat_minor": 2
}
