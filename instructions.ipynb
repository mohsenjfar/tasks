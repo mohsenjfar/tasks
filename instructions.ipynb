{
 "cells": [
  {
   "attachments": {},
   "cell_type": "markdown",
   "metadata": {},
   "source": [
    "## Create virtual envitonment\n",
    "\n",
    "```bash\n",
    "python3 -m venv .venv\n",
    "```\n",
    "\n",
    "## Install depencencies\n",
    "\n",
    "```bash\n",
    "pip install django pandas python-telegram-bot\n",
    "```\n",
    "\n",
    "## Create project and app\n",
    "\n",
    "```bash\n",
    "django-admin startproject backend .\n",
    "python3 manage.py startapp tasks \n",
    "```\n",
    "\n",
    "## Add app to app lists in settings\n",
    "\n",
    "## Migrate\n",
    "\n",
    "- python3 manage.py makemigrations\n",
    "- python3 manage.py migtate\n",
    "\n",
    "## Environment\n",
    "\n",
    "```py\n",
    "import sys, os, django\n",
    "sys.path.append('/home/ai')\n",
    "os.environ.setdefault(\"DJANGO_SETTINGS_MODULE\", \"webapps.settings\")\n",
    "django.setup()\n",
    "```"
   ]
  }
 ],
 "metadata": {
  "kernelspec": {
   "display_name": ".venv",
   "language": "python",
   "name": "python3"
  },
  "language_info": {
   "codemirror_mode": {
    "name": "ipython",
    "version": 3
   },
   "file_extension": ".py",
   "mimetype": "text/x-python",
   "name": "python",
   "nbconvert_exporter": "python",
   "pygments_lexer": "ipython3",
   "version": "3.9.2"
  },
  "orig_nbformat": 4
 },
 "nbformat": 4,
 "nbformat_minor": 2
}
