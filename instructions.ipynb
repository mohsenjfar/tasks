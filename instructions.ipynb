{
 "cells": [
  {
   "attachments": {},
   "cell_type": "markdown",
   "metadata": {},
   "source": [
    "\n",
    "\n",
    "\n",
    "\n",
    "\n",
    "\n",
    "\n",
    "\n",
    "\n",
    "\n",
    "\n",
    "\n",
    "\n",
    "\n",
    "\n",
    "\n",
    "\n",
    "\n",
    "\n",
    "\n",
    "\n",
    "\n",
    "\n",
    "\n",
    "\n",
    "\n",
    "\n",
    "\n",
    "\n",
    "\n",
    "\n",
    "\n",
    "\n",
    "\n",
    "\n",
    "\n",
    "\n",
    "\n",
    "\n",
    "\n",
    "\n",
    "\n",
    "\n",
    "\n",
    "\n",
    "\n",
    "\n",
    "\n",
    "\n",
    "\n",
    "\n",
    "\n",
    "\n",
    "\n",
    "\n",
    "\n",
    "\n",
    "\n",
    "\n",
    "\n",
    "\n",
    "\n",
    "## Create virtual envitonment"
   ]
  },
  {
   "cell_type": "code",
   "execution_count": null,
   "metadata": {
    "vscode": {
     "languageId": "shellscript"
    }
   },
   "outputs": [],
   "source": [
    "python3 -m venv .venv"
   ]
  },
  {
   "attachments": {},
   "cell_type": "markdown",
   "metadata": {},
   "source": [
    "## Install depencencies"
   ]
  },
  {
   "cell_type": "code",
   "execution_count": null,
   "metadata": {
    "vscode": {
     "languageId": "shellscript"
    }
   },
   "outputs": [],
   "source": [
    "pip install django pandas python-telegram-bot"
   ]
  },
  {
   "attachments": {},
   "cell_type": "markdown",
   "metadata": {},
   "source": [
    "## Create project and app"
   ]
  },
  {
   "cell_type": "code",
   "execution_count": null,
   "metadata": {
    "vscode": {
     "languageId": "shellscript"
    }
   },
   "outputs": [],
   "source": [
    "django-admin startproject backend .\n",
    "python3 manage.py startapp tasks "
   ]
  },
  {
   "attachments": {},
   "cell_type": "markdown",
   "metadata": {},
   "source": [
    "## Add app to app lists in settings"
   ]
  },
  {
   "attachments": {},
   "cell_type": "markdown",
   "metadata": {},
   "source": [
    "## Migrate"
   ]
  },
  {
   "cell_type": "code",
   "execution_count": null,
   "metadata": {},
   "outputs": [],
   "source": [
    "!python3 manage.py makemigrations\n",
    "!python3 manage.py migrate"
   ]
  },
  {
   "attachments": {},
   "cell_type": "markdown",
   "metadata": {},
   "source": [
    "## Django setup and import models"
   ]
  },
  {
   "cell_type": "code",
   "execution_count": 10,
   "metadata": {},
   "outputs": [],
   "source": [
    "import sys, os, django\n",
    "sys.path.append('/root/taskerbot')\n",
    "os.environ.setdefault(\"DJANGO_SETTINGS_MODULE\", \"backend.settings\")\n",
    "os.environ[\"DJANGO_ALLOW_ASYNC_UNSAFE\"] = \"true\"\n",
    "django.setup()\n",
    "from tasks.models import Task"
   ]
  },
  {
   "attachments": {},
   "cell_type": "markdown",
   "metadata": {},
   "source": [
    "## Import other libs and dependencies"
   ]
  },
  {
   "cell_type": "code",
   "execution_count": 9,
   "metadata": {},
   "outputs": [],
   "source": [
    "from datetime import datetime, date, time, timedelta"
   ]
  },
  {
   "cell_type": "code",
   "execution_count": null,
   "metadata": {},
   "outputs": [],
   "source": [
    "today = datetime.combine(date.today(), time(23,59))\n",
    "tasks = Task.objects.filter(due__lte = today).order_by('due')"
   ]
  },
  {
   "cell_type": "code",
   "execution_count": 15,
   "metadata": {},
   "outputs": [
    {
     "name": "stdout",
     "output_type": "stream",
     "text": [
      "Bath\n",
      "Cooking\n",
      "Breakfast\n",
      "Body hygiene\n",
      "Fruit\n",
      "House cleaning\n",
      "Ghalyeh\n",
      "Duolingo\n",
      "Scimentology\n",
      "Maintenance\n",
      "Flowers irritating\n",
      "Jojeh\n"
     ]
    }
   ],
   "source": [
    "for task in tasks:\n",
    "    print(task.summary)"
   ]
  },
  {
   "attachments": {},
   "cell_type": "markdown",
   "metadata": {},
   "source": [
    "## Run script"
   ]
  },
  {
   "cell_type": "code",
   "execution_count": null,
   "metadata": {},
   "outputs": [],
   "source": [
    "!python3 telegram/bot.py"
   ]
  },
  {
   "cell_type": "code",
   "execution_count": 7,
   "metadata": {},
   "outputs": [],
   "source": [
    "from datetime import datetime, date"
   ]
  },
  {
   "cell_type": "code",
   "execution_count": 10,
   "metadata": {},
   "outputs": [
    {
     "data": {
      "text/plain": [
       "datetime.datetime(1970, 1, 1, 0, 0)"
      ]
     },
     "execution_count": 10,
     "metadata": {},
     "output_type": "execute_result"
    }
   ],
   "source": [
    "datetime.fromtimestamp(0)"
   ]
  },
  {
   "attachments": {},
   "cell_type": "markdown",
   "metadata": {},
   "source": [
    "## Async IO in Python"
   ]
  },
  {
   "attachments": {},
   "cell_type": "markdown",
   "metadata": {},
   "source": [
    "- Concurrency\n",
    "  - Threading\n",
    "  - Async IO\n",
    "  - Parallelism\n",
    "    - Multiprocessing\n"
   ]
  },
  {
   "cell_type": "code",
   "execution_count": null,
   "metadata": {},
   "outputs": [],
   "source": [
    "import asyncio\n",
    "import random\n",
    "\n",
    "# ANSI colors\n",
    "c = (\n",
    "    \"\\033[0m\",   # End of color\n",
    "    \"\\033[36m\",  # Cyan\n",
    "    \"\\033[91m\",  # Red\n",
    "    \"\\033[35m\",  # Magenta\n",
    ")\n",
    "\n",
    "async def makerandom(idx: int, threshold: int = 6) -> int:\n",
    "    print(c[idx + 1] + f\"Initiated makerandom({idx}).\")\n",
    "    i = random.randint(0, 10)\n",
    "    while i <= threshold:\n",
    "        print(c[idx + 1] + f\"makerandom({idx}) == {i} too low; retrying.\")\n",
    "        await asyncio.sleep(idx + 1)\n",
    "        i = random.randint(0, 10)\n",
    "    print(c[idx + 1] + f\"---> Finished: makerandom({idx}) == {i}\" + c[0])\n",
    "    return i\n",
    "\n",
    "async def main():\n",
    "    res = await asyncio.gather(*(makerandom(i, 10 - i - 1) for i in range(3)))\n",
    "    return res\n",
    "\n",
    "if __name__ == \"__main__\":\n",
    "    random.seed(444)\n",
    "    r1, r2, r3 = asyncio.run(main())\n",
    "    print()\n",
    "    print(f\"r1: {r1}, r2: {r2}, r3: {r3}\")"
   ]
  },
  {
   "cell_type": "code",
   "execution_count": null,
   "metadata": {},
   "outputs": [],
   "source": [
    "import asyncio\n",
    "import random\n",
    "import time\n",
    "\n",
    "async def part1(n: int) -> str:\n",
    "    i = random.randint(0, 10)\n",
    "    print(f\"part1({n}) sleeping for {i} seconds.\")\n",
    "    await asyncio.sleep(i)\n",
    "    result = f\"result{n}-1\"\n",
    "    print(f\"Returning part1({n}) == {result}.\")\n",
    "    return result\n",
    "\n",
    "async def part2(n: int, arg: str) -> str:\n",
    "    i = random.randint(0, 10)\n",
    "    print(f\"part2{n, arg} sleeping for {i} seconds.\")\n",
    "    await asyncio.sleep(i)\n",
    "    result = f\"result{n}-2 derived from {arg}\"\n",
    "    print(f\"Returning part2{n, arg} == {result}.\")\n",
    "    return result\n",
    "\n",
    "async def chain(n: int) -> None:\n",
    "    start = time.perf_counter()\n",
    "    p1 = await part1(n)\n",
    "    p2 = await part2(n, p1)\n",
    "    end = time.perf_counter() - start\n",
    "    print(f\"-->Chained result{n} => {p2} (took {end:0.2f} seconds).\")\n",
    "\n",
    "async def main(*args):\n",
    "    await asyncio.gather(*(chain(n) for n in args))\n",
    "\n",
    "if __name__ == \"__main__\":\n",
    "    import sys\n",
    "    random.seed(444)\n",
    "    args = [1, 2, 3] if len(sys.argv) == 1 else map(int, sys.argv[1:])\n",
    "    start = time.perf_counter()\n",
    "    asyncio.run(main(*args))\n",
    "    end = time.perf_counter() - start\n",
    "    print(f\"Program finished in {end:0.2f} seconds.\")"
   ]
  },
  {
   "cell_type": "code",
   "execution_count": 123,
   "metadata": {},
   "outputs": [],
   "source": [
    "import itertools as it"
   ]
  },
  {
   "cell_type": "code",
   "execution_count": 146,
   "metadata": {},
   "outputs": [],
   "source": [
    "suits = ['H', 'D', 'C', 'S']\n",
    "ranks = ['A', 'K', 'Q', 'J', '10', '9', '8', '7', '6', '5', '4', '3', '2']"
   ]
  },
  {
   "cell_type": "code",
   "execution_count": 194,
   "metadata": {},
   "outputs": [
    {
     "data": {
      "text/plain": [
       "[True, False, False, True, False, False, False, False, False]"
      ]
     },
     "execution_count": 194,
     "metadata": {},
     "output_type": "execute_result"
    }
   ],
   "source": [
    "[not(i // 3 % 5) for i in list(map(lambda x: x**2, range(1,10)))]"
   ]
  },
  {
   "cell_type": "code",
   "execution_count": 1,
   "metadata": {},
   "outputs": [],
   "source": [
    "from dataclasses import dataclass\n",
    "from math import asin, cos, radians, sin, sqrt\n",
    "\n",
    "@dataclass\n",
    "class Position:\n",
    "    name: str\n",
    "    lon: float = 0.0\n",
    "    lat: float = 0.0\n",
    "\n",
    "    def distance_to(self, other):\n",
    "        r = 6371  # Earth radius in kilometers\n",
    "        lam_1, lam_2 = radians(self.lon), radians(other.lon)\n",
    "        phi_1, phi_2 = radians(self.lat), radians(other.lat)\n",
    "        h = (sin((phi_2 - phi_1) / 2)**2\n",
    "             + cos(phi_1) * cos(phi_2) * sin((lam_2 - lam_1) / 2)**2)\n",
    "        return 2 * r * asin(sqrt(h))"
   ]
  },
  {
   "cell_type": "code",
   "execution_count": 4,
   "metadata": {},
   "outputs": [
    {
     "data": {
      "text/plain": [
       "7181.7841229421165"
      ]
     },
     "execution_count": 4,
     "metadata": {},
     "output_type": "execute_result"
    }
   ],
   "source": [
    "oslo = Position('Oslo', 10.8, 59.9)\n",
    "vancouver = Position('Vancouver', -123.1, 49.3)\n",
    "vancouver.distance_to(oslo)\n"
   ]
  },
  {
   "cell_type": "code",
   "execution_count": 7,
   "metadata": {},
   "outputs": [],
   "source": [
    "def do_nothing():\n",
    "    ..."
   ]
  },
  {
   "cell_type": "code",
   "execution_count": null,
   "metadata": {},
   "outputs": [],
   "source": [
    "do_nothing()"
   ]
  }
 ],
 "metadata": {
  "kernelspec": {
   "display_name": ".venv",
   "language": "python",
   "name": "python3"
  },
  "language_info": {
   "codemirror_mode": {
    "name": "ipython",
    "version": 3
   },
   "file_extension": ".py",
   "mimetype": "text/x-python",
   "name": "python",
   "nbconvert_exporter": "python",
   "pygments_lexer": "ipython3",
   "version": "3.9.2"
  },
  "orig_nbformat": 4
 },
 "nbformat": 4,
 "nbformat_minor": 2
}
